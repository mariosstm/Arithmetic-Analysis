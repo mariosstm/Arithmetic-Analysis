{
 "cells": [
  {
   "cell_type": "markdown",
   "metadata": {},
   "source": [
    "# Numerical Integration"
   ]
  },
  {
   "cell_type": "markdown",
   "metadata": {},
   "source": [
    "Differential equations describe the relation between an unknown function and its\n",
    "derivatives. To solve a differential equation is to find a function that\n",
    "satisfies the relation, typically while satisfying some additional conditions as\n",
    "well. In this course we will be concerned primarily with a particular class of\n",
    "problems, called initial value problems. In a canonical initial value problem,\n",
    "the behavior of the system is described by an ordinary differential equation\n",
    "(ODE) of the form\n",
    "\n",
    "\\begin{equation}\n",
    "  \\dot{{\\bf x}} = f({\\bf x}, t)\n",
    "\\end{equation}\n",
    "\n",
    "where f is a known function ${\\bf x}$ is the state of the system, and $\\dot{{\\bf\n",
    "x}}$ is ${\\bf x}$’s time derivative. Typically, ${\\bf x}$ and $\\dot{{\\bf x}}$\n",
    "are vectors. As the name suggests, in an initial value problem we are given\n",
    "${\\bf x}(t_0)= {\\bf x_0}$ at some starting time $t_0$, and wish to follow ${\\bf\n",
    "x}$ over time thereafter."
   ]
  },
  {
   "cell_type": "code",
   "execution_count": 2,
   "metadata": {},
   "outputs": [],
   "source": [
    "#For widgets\n",
    "from __future__ import print_function\n",
    "from ipywidgets import interact, interactive, fixed, interact_manual, HBox, VBox, Layout\n",
    "from ipywidgets import FloatSlider, IntSlider,interactive_output\n",
    "import ipywidgets as widgets\n",
    "from IPython.display import display\n",
    "\n",
    "\n",
    "# python packages and configurations\n",
    "# %matplotlib nbagg\n",
    "%matplotlib inline\n",
    "from random import uniform\n",
    "import numpy as np\n",
    "import sympy as sp\n",
    "import matplotlib.pyplot as plt\n",
    "from mpl_toolkits.mplot3d import Axes3D\n",
    "from matplotlib import animation\n",
    "# plt.style.use('grayscale')\n",
    "from scipy.integrate import odeint\n",
    "from IPython.display import HTML, Video\n",
    "\n",
    "\n",
    "\n",
    "# utility function\n",
    "def visualize(t, y, u, analytical_solution):\n",
    "    t = np.array(t)\n",
    "    y = np.array(y)\n",
    "    u = np.array(u)\n",
    "    fig = plt.figure(figsize=(12, 6))\n",
    "    ax = fig.subplots(1, 2)\n",
    "    ax[0].plot(t, analytical_solution(t).real, label='analytical')\n",
    "    ax[0].plot(t, y, 'x', label='numerical')\n",
    "    ax[0].set_xlabel('$t (s)$')\n",
    "    ax[0].set_ylabel('$y (m)$')\n",
    "    ax[0].set_title('Solution')\n",
    "    ax[0].legend()\n",
    "    ax[1].quiver(y[:-1], u[:-1], y[1:] - y[:-1], u[1:] - u[:-1],\n",
    "                 scale_units='xy', angles='xy', scale=1)\n",
    "    ax[1].set_xlabel('$y (m)$')\n",
    "    ax[1].set_ylabel('$u (m / s)$')\n",
    "    ax[1].set_title('State-space')\n",
    "    \n",
    "    \n",
    "def display_with_widgets(solver_function):\n",
    "    dumping_slider  = FloatSlider(min=0, max=5, step=0.5, value=0,  description='dumping(d)', continuous_update=False, layout=Layout(width='420px'))\n",
    "    dt_slider       = FloatSlider(min=0.01, max=1, step=0.01, value=0.1,  description='time_step(dt)', continuous_update=False, layout=Layout(width='420px'))\n",
    "    mass_slider     = FloatSlider(min=0.05, max=10, step=0.1, value=1,   description='mass(m)', continuous_update=False, layout=Layout(width='420px'))\n",
    "    stiffnes_slider = FloatSlider(min=0.05, max=20, step=0.5, value=5,  description='stiffness(k)',  continuous_update=False, layout=Layout(width='420px'))\n",
    "    left_box  = VBox([dumping_slider, dt_slider])\n",
    "    right_box = VBox([mass_slider, stiffnes_slider])\n",
    "    ui = widgets.HBox([left_box, right_box])\n",
    "\n",
    "    out = widgets.interactive_output(solver_function, {'d': dumping_slider, 'dt': dt_slider, 'm': mass_slider, \"k\" : stiffnes_slider})\n",
    "    display(ui, out)"
   ]
  },
  {
   "cell_type": "markdown",
   "metadata": {},
   "source": [
    "## Analytical Solution"
   ]
  },
  {
   "cell_type": "markdown",
   "metadata": {},
   "source": [
    "Let us examine the following second-order ODE that represents a\n",
    "mass-spring-damper system:\n",
    "\n",
    "\\begin{equation}\n",
    "  m y'' + d y' + k y =0,\\; y(t_0) = y_0, y'(t_0) = u_0\n",
    "\\end{equation}\n",
    "\n",
    "where $m$, $d$ and $k$ are the mass, spring constant and damping coefficient,\n",
    "respectively. The analytical solution of this equation is of the following form:\n",
    "\n",
    "\\begin{equation}\n",
    "  y(t) = A e^{r_1 t} + B e^{r_2 t}\n",
    "\\end{equation}\n",
    "\n",
    "where $r_1$ and $r_2$ are the roots of the homogeneous equation. Constants $A$\n",
    "and $B$ are determined such as that the above equation satisfies the initial\n",
    "conditions."
   ]
  },
  {
   "cell_type": "code",
   "execution_count": 3,
   "metadata": {},
   "outputs": [],
   "source": [
    "#Initial conditions\n",
    "y0 = -5.0 # initial position \n",
    "u0 = 0.0  # initial velocity\n",
    "end_time = 15\n",
    "\n",
    "def calculate_analytical_solution(m, k, d, y0, u0):\n",
    "    # find the roots of the homogeneous equation\n",
    "    roots = sp.solve('m * y**2 + d * y + k', 'y')\n",
    "\n",
    "    # find the constants of the analytical solution\n",
    "    constants = sp.solve(['A + B - y0', 'r1 * A + r2 * B - u0'], 'A', 'B')\n",
    "\n",
    "    # substitute the parameters \n",
    "    parameters = {'m': m, 'd': d, 'k': k}\n",
    "    r1 = roots[0].subs(parameters)\n",
    "    r2 = roots[1].subs(parameters)\n",
    "    parameters['r1'] = r1\n",
    "    parameters['r2'] = r2\n",
    "    parameters['y0'] = y0\n",
    "    parameters['u0'] = u0\n",
    "    A = constants[sp.symbols('A')].subs(parameters)\n",
    "    B = constants[sp.symbols('B')].subs(parameters)\n",
    "\n",
    "    # calculate the analytical solution as a function of time\n",
    "    t = sp.symbols('t')\n",
    "    solution = sp.lambdify(t, A * sp.exp(r1 * t) + B * sp.exp(r2 * t))\n",
    "    return solution"
   ]
  },
  {
   "cell_type": "markdown",
   "metadata": {},
   "source": [
    "## Explicit Euler"
   ]
  },
  {
   "cell_type": "markdown",
   "metadata": {},
   "source": [
    "The simplest numerical method is called explicit Euler. This method computes the\n",
    "next value of the solution $x(t + dt)$ by taking a step in the derivative\n",
    "direction\n",
    "\n",
    "\\begin{equation}\n",
    "  x(t_0 + dt) = x(t_0) + x'(t_0) dt + O(dt^2)\n",
    "\\end{equation}\n",
    "\n",
    "where $x'(t_0)$ is the first derivative valuated at $t_0$ and $dt$ is the step\n",
    "size. This is a first-order approximation of the Taylor series. To solve a\n",
    "second order differential equation, one can apply the Euler method\n",
    "twice. Assuming that $u(t) = y'(t)$ and $a(t) = y''(t)$ then the problem is\n",
    "expressed as follows:\n",
    "\n",
    "\\begin{aligned}\n",
    "   a(t_0) &= -\\frac{k}{m} y(t_0) - \\frac{d}{m} u(t_0) \\\\\n",
    "   u(t_0 + dt) &= u(t_0) + a(t_0) dt \\\\\n",
    "   y(t_0 + dt) &= y(t_0) + u(t_0) dt.\n",
    "\\end{aligned}"
   ]
  },
  {
   "cell_type": "code",
   "execution_count": 7,
   "metadata": {},
   "outputs": [
    {
     "data": {
      "application/vnd.jupyter.widget-view+json": {
       "model_id": "a403b39632db410b97c50d2d3873149e",
       "version_major": 2,
       "version_minor": 0
      },
      "text/plain": [
       "HBox(children=(VBox(children=(FloatSlider(value=0.0, continuous_update=False, description='dumping(d)', layout…"
      ]
     },
     "metadata": {},
     "output_type": "display_data"
    },
    {
     "data": {
      "application/vnd.jupyter.widget-view+json": {
       "model_id": "a7f1d99da99a4013a003624c2f57c31d",
       "version_major": 2,
       "version_minor": 0
      },
      "text/plain": [
       "Output()"
      ]
     },
     "metadata": {},
     "output_type": "display_data"
    }
   ],
   "source": [
    "def solve_euler(d, dt, m, k):\n",
    "    # solution vectors\n",
    "    t = [0.0]\n",
    "    y = [y0]\n",
    "    u = [u0]\n",
    "\n",
    "    # numerical integration\n",
    "    while t[-1] < end_time:\n",
    "        t0 = t[-1]\n",
    "        y_t0 = y[-1]\n",
    "        u_t0 = u[-1]\n",
    "\n",
    "        #TASK calculate a, u and y ####\n",
    "        a_t0 =  -k/m*y_t0-d/m*u_t0\n",
    "        u_t0_dt = u_t0 + a_t0*dt\n",
    "        y_t0_dt = y_t0 + u_t0*dt \n",
    "        ###############################\n",
    "\n",
    "\n",
    "        u.append(u_t0_dt)\n",
    "        y.append(y_t0_dt)\n",
    "        t.append(t0 + dt)\n",
    "        \n",
    "    #recalculate the analytical solution (global variable) for the new parameters\n",
    "    analytical_solution = calculate_analytical_solution(m, k, d, y0, u0)\n",
    "    \n",
    "    # visualization\n",
    "    visualize(t, y, u, analytical_solution)\n",
    "\n",
    "    \n",
    "# visualization with sliders\n",
    "display_with_widgets(solve_euler)"
   ]
  },
  {
   "cell_type": "markdown",
   "metadata": {},
   "source": [
    "## Tasks/Questions\n",
    "1. Calculate a_t0, u_t0_dt, y_t0_dt.\n",
    "2. Experiment with different spring parameters.\n",
    "3. Is the system stable?\n",
    "3. What would the state-space graph of the analytical solution look like?\n",
    "4. Why does the numerical solution diverge from the true solution?\n",
    "5. What can you do to better approximate the actual solution with this method?"
   ]
  },
  {
   "cell_type": "markdown",
   "metadata": {},
   "source": [
    "## Semi-implicit Euler"
   ]
  },
  {
   "cell_type": "markdown",
   "metadata": {},
   "source": [
    "The difference with the standard Euler method is that the semi-implicit Euler\n",
    "method uses $u(t_0 + dt)$ in the equation for $y(t_0 + dt)$, while the Euler\n",
    "method uses $u(t_0)$\n",
    "\n",
    "\\begin{aligned}\n",
    "   a(t_0) &= -\\frac{k}{m} y(t_0) - \\frac{d}{m} u(t_0) \\\\\n",
    "   u(t_0 + dt) &= u(t_0) + a(t_0) dt \\\\\n",
    "   y(t_0 + dt) &= y(t_0) + u(t_0 + dt) dt.\n",
    "\\end{aligned}"
   ]
  },
  {
   "cell_type": "code",
   "execution_count": 10,
   "metadata": {
    "scrolled": true
   },
   "outputs": [
    {
     "data": {
      "application/vnd.jupyter.widget-view+json": {
       "model_id": "222787f531c6464a889eddc005dd24e4",
       "version_major": 2,
       "version_minor": 0
      },
      "text/plain": [
       "HBox(children=(VBox(children=(FloatSlider(value=0.0, continuous_update=False, description='dumping(d)', layout…"
      ]
     },
     "metadata": {},
     "output_type": "display_data"
    },
    {
     "data": {
      "application/vnd.jupyter.widget-view+json": {
       "model_id": "4c1cfc6516384832b3568a0f03c3184b",
       "version_major": 2,
       "version_minor": 0
      },
      "text/plain": [
       "Output()"
      ]
     },
     "metadata": {},
     "output_type": "display_data"
    }
   ],
   "source": [
    "def solve_semi_implicit_euler(d, dt, m, k):\n",
    "    # solution vectors\n",
    "    t = [0]\n",
    "    y = [y0]\n",
    "    u = [u0]\n",
    "\n",
    "    # numerical integration\n",
    "    while t[-1] < end_time:\n",
    "        t0 = t[-1]\n",
    "        y_t0 = y[-1]\n",
    "        u_t0 = u[-1]  \n",
    "\n",
    "        #TASK calculate a, u and y ####\n",
    "        a_t0 = -k/m*y_t0-d/m*u_t0\n",
    "        u_t0_dt = u_t0 + a_t0*dt\n",
    "        y_t0_dt = y_t0 + u_t0_dt*dt \n",
    "        ###############################\n",
    "\n",
    "        y.append(y_t0_dt)\n",
    "        u.append(u_t0_dt)\n",
    "        t.append(t0 + dt)\n",
    "\n",
    "    #recalculate the analytical solution (global variable) for the new parameters\n",
    "    analytical_solution = calculate_analytical_solution(m, k, d, y0, u0)\n",
    "\n",
    "    # visualization\n",
    "    visualize(t, y, u, analytical_solution)\n",
    "display_with_widgets(solve_semi_implicit_euler)"
   ]
  },
  {
   "cell_type": "markdown",
   "metadata": {},
   "source": [
    "## Tasks/Questions\n",
    "1. Calculate a_t0, u_t0_dt, y_t0_dt.\n",
    "\n",
    "1. Is this method stable and when? Compare it to the previous method both in stability and computational expense.\n",
    "2. Can you explain intuitively why this method is more stable or unstable than the explicit Euler?\n",
    "2. What about the accuracy of the obtained solution?"
   ]
  },
  {
   "cell_type": "markdown",
   "metadata": {},
   "source": [
    "## The Midpoint Method and the Runge-Kutta method of Order 4"
   ]
  },
  {
   "cell_type": "markdown",
   "metadata": {},
   "source": [
    "If we were able to evaluate $\\ddot{{\\bf x}}$ as well as $\\dot{{\\bf x}}$, we\n",
    "could acheive $O(dt^3)$ accuracy instead of $O(dt^2)$ simply by retaining one\n",
    "additional term in the truncated Taylor series:\n",
    "\n",
    "\\begin{equation}\n",
    "   {\\bf x}(t_0 + dt) = {\\bf x}(t_0) + \\dot{{\\bf x}}(t_0) dt + \\ddot{{\\bf x}}(t_0) \\frac{dt^2}{2} + O(dt^3).  \\quad \\quad (1)\n",
    "\\end{equation}\n",
    "\n",
    "Recall that the time derivative $\\dot{{\\bf x}}$ is given by a function $f({\\bf\n",
    "x}(t), t)$. For simplicity in what follows, we will assume that the derivative\n",
    "function $f$ does depends on time only indirectly through ${\\bf x}$, so that\n",
    "$\\dot{{\\bf x}} = f({\\bf x}(t))$. The chain rule then gives\n",
    "\n",
    "\n",
    "\\begin{equation}\n",
    "   \\ddot{{\\bf x}} = \\frac{df}{d {\\bf x}} \\dot{{\\bf x}} = f' f.\n",
    "\\end{equation}\n",
    "\n",
    "To avoid having to evaluate $f'$, which would often be complicated and\n",
    "expensive, we can approximate the second-order term just in terms of $f$, and\n",
    "substitute the approximation into Eq. (1), leaving us with $O(dt^3)$ error. To\n",
    "do this, we perform another Taylor expansion, this time of the function of $f$\n",
    "\n",
    "\\begin{equation}\n",
    "   f({\\bf x}_0 + \\Delta {\\bf x}) = f({\\bf x}_0) + f'({\\bf x}_0) \\Delta {\\bf x} + O(\\Delta {\\bf x}^2).\n",
    "\\end{equation}\n",
    "\n",
    "We first induce $\\ddot{{\\bf x}}$ into this expression by choosing\n",
    "\n",
    "\\begin{equation}\n",
    "  \\Delta {\\bf x} = f({\\bf x}_0) \\frac{dt}{2}\n",
    "\\end{equation}\n",
    "\n",
    "so that\n",
    "\n",
    "\\begin{equation}\n",
    "   f({\\bf x}_0 + f({\\bf x}_0) \\frac{dt}{2}) = f({\\bf x}_0) + f'({\\bf x}_0) f({\\bf x}_0) \\frac{dt}{2} + O(dt^2) = f({\\bf x}_0) + \\ddot{{\\bf x}}(t_0) \\frac{dt}{2} + O(dt^2)\n",
    "\\end{equation}\n",
    "\n",
    "where ${\\bf x}_0 = {\\bf x}(t_0)$. We can now multiply both sides by $dt$\n",
    "(turning the $O(dt^2)$ term into $O(dt^3)$) and rearrange, yielding\n",
    "\n",
    "\\begin{equation}\n",
    "  \\ddot{{\\bf x}}(t_0) \\frac{dt^2}{2} + O(dt^3) = (f({\\bf x}_0 + f({\\bf x}_0) \\frac{dt}{2}) - f({\\bf x}_0)) dt\n",
    "\\end{equation}\n",
    "\n",
    "Substituting the right hand side into Eq. (1) gives the update formula\n",
    "\n",
    "\\begin{equation}\n",
    "   {\\bf x}(t_0 + dt) = {\\bf x}(t_0) + f({\\bf x}_0 + f({\\bf x}_0) \\frac{dt}{2}) dt\n",
    "\\end{equation}\n",
    "\n",
    "This formula first evaluates an Euler step, then performs a second derivative\n",
    "evaluation at the midpoint of the step, using the midpoint evaluation to update\n",
    "${\\bf x}$. Hence the name midpoint method. The midpoint method is correct to\n",
    "within $O(dt^3)$, but requires two evaluations of $f$.\n",
    "\n",
    "We don’t have to stop with an error of $O(dt^3)$. By evaluating $f$ a few more\n",
    "times, we can eliminate higher and higher orders of derivatives. The most\n",
    "popular procedure for doing this is a method called Runge-Kutta of order 4 and\n",
    "has an error per step of $O(dt^4)$ (the midpoint method could be called\n",
    "Runge-Kutta of order 2). We won’t derive the fourth order Runge-Kutta method,\n",
    "but the formula for computing ${\\bf x}(t_0 + dt)$ is listed below:\n",
    "\n",
    "\\begin{aligned}\n",
    "    k_1 &= f({\\bf x}_0, t_0) dt \\\\\n",
    "    k_2 &= f({\\bf x}_0 + \\frac{k_1}{2}, t_0 + \\frac{dt}{2}) dt \\\\\n",
    "    k_3 &= f({\\bf x}_0 + \\frac{k_2}{2}, t_0 + \\frac{dt}{2}) dt \\\\\n",
    "    k_4 &= f({\\bf x}_0 + k_3, t_0 + dt) dt \\\\\n",
    "    {\\bf x}(t_0 + dt) &= {\\bf x}_0 + \\frac{1}{6} (k_1 + 2 k_2 + 2 k_3 + k_4).\n",
    "\\end{aligned}"
   ]
  },
  {
   "cell_type": "markdown",
   "metadata": {},
   "source": [
    "In order to express the second-order ODE into a cannonical first-order form\n",
    "\n",
    "\\begin{equation}\n",
    "  \\dot{{\\bf x}} = f({\\bf x}, t)\n",
    "\\end{equation}\n",
    "\n",
    "\n",
    "one can use the following transformation $x_1 = y$, $x_2 = y'$, $x_1' = x_2$ and $x_2' = y''$. Therefore, the transformed system of equations becomes:\n",
    "\n",
    "\\begin{equation}\n",
    "  \\bf x = \\begin{bmatrix}\n",
    "    x_1 \\\\ x_2\n",
    "  \\end{bmatrix} = \n",
    "  \\begin{bmatrix}\n",
    "    y \\\\ u\n",
    "  \\end{bmatrix}\n",
    "\\end{equation}\n",
    "\n",
    "\n",
    "\n",
    "\\begin{equation}\n",
    "  \\dot{{\\bf x}} =\n",
    "  \\begin{bmatrix}\n",
    "    \\dot{x}_1 \\\\ \\dot{x}_2 \n",
    "  \\end{bmatrix} = \n",
    "  \\begin{bmatrix}\n",
    "    u \\\\ a\n",
    "  \\end{bmatrix} =\n",
    "  \\begin{bmatrix} \n",
    "    x_2 \\\\ - \\frac{k}{m} x_1 - \\frac{d}{m} x_2 \n",
    "  \\end{bmatrix} =\n",
    "  f({\\bf x}, t).\n",
    "\\end{equation}\n",
    "\n",
    "A more visual presentation of the k variables and what they mean is shown here\n",
    "![title](rk4.png)"
   ]
  },
  {
   "cell_type": "code",
   "execution_count": 12,
   "metadata": {},
   "outputs": [
    {
     "data": {
      "application/vnd.jupyter.widget-view+json": {
       "model_id": "5f83910d0c054de1a48a55a7615e1e2d",
       "version_major": 2,
       "version_minor": 0
      },
      "text/plain": [
       "HBox(children=(VBox(children=(FloatSlider(value=0.0, continuous_update=False, description='dumping(d)', layout…"
      ]
     },
     "metadata": {},
     "output_type": "display_data"
    },
    {
     "data": {
      "application/vnd.jupyter.widget-view+json": {
       "model_id": "e4847eb4313d421ea72f50c39cd776e7",
       "version_major": 2,
       "version_minor": 0
      },
      "text/plain": [
       "Output()"
      ]
     },
     "metadata": {},
     "output_type": "display_data"
    }
   ],
   "source": [
    "def runge_kutta_solver(d, dt, m, k):\n",
    "    t = [0]\n",
    "    x = [[y0, u0]]\n",
    "\n",
    "    # first-order derivative function\n",
    "    def f(x, t):\n",
    "        return np.array([x[1], -k / m * x[0] - d / m * x[1]])\n",
    "\n",
    "    # numerical integration\n",
    "    while t[-1] < end_time:\n",
    "        t0 = t[-1]\n",
    "        x_t0 = np.array(x[-1])\n",
    "\n",
    "        #Calculate k1, k2, k3, k4 and finally x_t0_dt\n",
    "        k1 = f(x_t0,t0)*dt\n",
    "        k2 = f(x_t0+k1/2,t0+dt/2)*dt\n",
    "        k3 = f(x_t0+k2/2,t0+dt/2)*dt\n",
    "        k4 = f(x_t0+k3,t0+dt)*dt\n",
    "        x_t0_dt = x_t0 + 1/6*(k1+2*k2+2*k3+k4) \n",
    "       \n",
    "        ###############################################\n",
    "\n",
    "        x.append(x_t0_dt)    \n",
    "        t.append(t0 + dt)\n",
    "\n",
    "    analytical_solution = calculate_analytical_solution(m, k, d, y0, u0)\n",
    "    # visualization\n",
    "    x = np.array(x)\n",
    "    visualize(t, x[:, 0], x[:, 1],analytical_solution)\n",
    "    \n",
    "display_with_widgets(runge_kutta_solver)"
   ]
  },
  {
   "cell_type": "markdown",
   "metadata": {},
   "source": [
    "## Tasks/Questions\n",
    "\n",
    "1. Can you lead the system to instability and how does its resilience compared to the previous methods? Also compare this method in terms of computational cost.\n",
    "1. What is the error of this method?\n",
    "2. Do you expect the solution to diverge and if yes, when?"
   ]
  },
  {
   "cell_type": "markdown",
   "metadata": {},
   "source": [
    "## Adaptive Time Stepping\n",
    "\n",
    "Whatever the underlying method, a major problem lies in determing a good stepsize. Ideally, we\n",
    "want to choose h as large as possible—but not so large as to give us an unreasonable amount of\n",
    "error, or worse still, to induce instability. If we choose a fixed stepsize, we can only proceed as\n",
    "fast as the “worst” sections of x(t) will allow."
   ]
  },
  {
   "cell_type": "code",
   "execution_count": 19,
   "metadata": {},
   "outputs": [
    {
     "data": {
      "image/png": "[encoded data removed]",
      "text/plain": [
       "<Figure size 864x432 with 2 Axes>"
      ]
     },
     "metadata": {
      "needs_background": "light"
     },
     "output_type": "display_data"
    }
   ],
   "source": [
    "# integration parameters\n",
    "# model parameters and initial conditions\n",
    "m = 1.0   # mass\n",
    "k = 5.0   # spring constant\n",
    "d = 0.0   # damping coefficient\n",
    "y0 = -5.0 # initial position \n",
    "u0 = 0.0  # initial velocity\n",
    "end_time = 5\n",
    "t = np.linspace(0, end_time/1, end_time * 10)\n",
    "\n",
    "x0 = [y0, u0]\n",
    "\n",
    "# first-order derivative function\n",
    "def f(x, t):\n",
    "    return [x[1], -k / m * x[0] - d / m * x[1]]\n",
    "    \n",
    "# numerical integration\n",
    "[x, infodict] = odeint(f, x0, t, full_output=True)\n",
    "\n",
    "# visualization\n",
    "analytical_solution = calculate_analytical_solution(m, k, d, y0, u0)\n",
    "visualize(t, x[:, 0], x[:, 1], analytical_solution)\n",
    "#print(len(infodict['tcur']))\n",
    "#print(len(t))"
   ]
  },
  {
   "cell_type": "markdown",
   "metadata": {},
   "source": [
    "## Tasks/Questions\n",
    "\n",
    "1. Change the density of the time points in np.linspace. What do you observe? (This time you have to manually change values and rerun the block)\n",
    "2. Do you expect the solution to diverge?\n",
    "3. Which algorithms are supported by odeint?"
   ]
  },
  {
   "cell_type": "markdown",
   "metadata": {},
   "source": [
    "## Cloth Simulation"
   ]
  },
  {
   "cell_type": "code",
   "execution_count": 4,
   "metadata": {},
   "outputs": [],
   "source": [
    "# topology\n",
    "W = 1.0  # grid width\n",
    "H = 1.0  # grid heigh\n",
    "particles_x = 11  # number of particles on x-axis\n",
    "particles_y = 11  # number of particles on y-axis\n",
    "# l is the spring rest lenght (x-axis, y-axis, xy: diagonal)\n",
    "# type-1 (+-1, +-1) or type-2 (+-2, +-2) refers to the connectivity \n",
    "lx_type1 = W / (particles_x - 1)\n",
    "ly_type1 = H / (particles_y - 1)\n",
    "lxy_type1 = np.sqrt(lx_type1 ** 2 + ly_type1 ** 2)\n",
    "lx_type2 = 2 * lx_type1\n",
    "ly_type2 = 2 * ly_type1\n",
    "lxy_type2 = 2 * lxy_type1\n",
    "indices = [(i, j) for i in range(0, particles_y) for j in range(0, particles_x)]\n",
    "\n",
    "def cartesian_product(arrays, out=None):\n",
    "    arrays = [np.asarray(x) for x in arrays]\n",
    "    dtype = arrays[0].dtype\n",
    "\n",
    "    n = np.prod([x.size for x in arrays])\n",
    "    if out is None:\n",
    "        out = np.zeros([n, len(arrays)], dtype=dtype)\n",
    "\n",
    "    m = int(n / arrays[0].size)\n",
    "    out[:, 0] = np.repeat(arrays[0], m)\n",
    "    if arrays[1:]:\n",
    "        cartesian_product(arrays[1:], out=out[0:m, 1:])\n",
    "        for j in range(1, arrays[0].size):\n",
    "            out[j * m:(j + 1) * m, 1:] = out[0:m, 1:]\n",
    "    \n",
    "    return out\n",
    "\n",
    "def is_valid_coordinate(i, j):\n",
    "    if i < 0 or i >= particles_y or j < 0 or j >= particles_x:\n",
    "        return False\n",
    "    else: \n",
    "        return True\n",
    "    \n",
    "def append_connectivity_if_valid(i, j, i_inc, j_inc, connectivity):\n",
    "    if is_valid_coordinate(i + i_inc, j + j_inc):\n",
    "        connectivity[i, j].append((i + i_inc, j + j_inc))\n",
    "        \n",
    "def generate_connectivity(indices, combinations):\n",
    "    permutations = tuple(map(tuple, cartesian_product(combinations)))\n",
    "    permutations = list(set(permutations))  # to remove duplicate combinations\n",
    "    permutations.remove((0, 0))  # to remove identity\n",
    "    connectivity = {}\n",
    "    for i, j in indices:\n",
    "        connectivity[i, j] = []\n",
    "        for i_inc, j_inc in permutations:\n",
    "            append_connectivity_if_valid(i, j, i_inc, j_inc, connectivity)\n",
    "    \n",
    "    return connectivity\n",
    "\n",
    "# define type-1 and type-2 connectivity    \n",
    "type1_connectivity = generate_connectivity(indices, ([1, 0, -1], [1, 0, -1]))\n",
    "type2_connectivity = generate_connectivity(indices, ([2, 0, -2], [2, 0, -2]))      "
   ]
  },
  {
   "cell_type": "code",
   "execution_count": 5,
   "metadata": {
    "scrolled": true
   },
   "outputs": [
    {
     "name": "stdout",
     "output_type": "stream",
     "text": [
      "7.867479126514021\n"
     ]
    },
    {
     "data": {
      "text/plain": [
       "<mpl_toolkits.mplot3d.art3d.Line3DCollection at 0x22ded2f4fd0>"
      ]
     },
     "execution_count": 5,
     "metadata": {},
     "output_type": "execute_result"
    },
    {
     "data": {
      "image/png": "[encoded data removed]",
      "text/plain": [
       "<Figure size 432x288 with 1 Axes>"
      ]
     },
     "metadata": {
      "needs_background": "light"
     },
     "output_type": "display_data"
    }
   ],
   "source": [
    "# initial state variables\n",
    "u0 = uniform(5, 10)\n",
    "print(u0)\n",
    "X0 = np.zeros((particles_y, particles_x, 3))\n",
    "U0 = np.zeros((particles_y, particles_x, 3)) \n",
    "\n",
    "# initialize particle state (position and velocity)\n",
    "for i, j in indices:\n",
    "    X0[i, j, :] = np.array([i * H / (particles_y - 1), \n",
    "                            j * W / (particles_x - 1), 0])\n",
    "    \n",
    "    # particles that have initial velocity\n",
    "    if j > 2 and j < particles_x - 2 and i > 2 and i < particles_y - 2:\n",
    "        U0[i, j, :] = np.array([u0, u0, u0])\n",
    "        \n",
    "    # make sure that upper part particles have zero initial velocity \n",
    "    # since they are assumed fixed\n",
    "    for i in range(0, particles_y):\n",
    "        U0[i, particles_x - 1, :] = np.array([0, 0, 0])\n",
    "\n",
    "# visualize initial conditions\n",
    "fig = plt.figure()\n",
    "ax = fig.add_subplot(111, projection='3d')\n",
    "ax.set_xlabel('$x (m)$')\n",
    "ax.set_ylabel('$y (m)$')\n",
    "ax.set_zlabel('$z (m)$')\n",
    "ax.scatter(X0[:, :, 0], X0[:, :, 1], X0[:, :, 2])\n",
    "ax.quiver(X0[:, :, 0], X0[:, :, 1], X0[:, :, 2],\n",
    "          U0[:, :, 0], U0[:, :, 1], U0[:, :, 2],\n",
    "          length=0.05, normalize=True)"
   ]
  },
  {
   "cell_type": "code",
   "execution_count": 6,
   "metadata": {},
   "outputs": [],
   "source": [
    "total_cloth_mass = 3.0\n",
    "m = total_cloth_mass / (particles_x * particles_y)  # particle mass\n",
    "k = 10.0\n",
    "d = 0.05\n",
    "g = 9.8\n",
    "def calc_total_force(i, j, X_n, U_n):\n",
    "    f_ij = np.array([0 ,0, 0])\n",
    "    \n",
    "    # type-1 internal forces\n",
    "    for i_n, j_n in type1_connectivity[i, j]:\n",
    "        x_ij = X_n[i_n, j_n, :] - X_n[i, j, :]\n",
    "        x_ij_mag = np.linalg.norm(x_ij)\n",
    "        \n",
    "        #calculate resting length\n",
    "        l = 0\n",
    "        if np.abs(i - i_n) > 0 and np.abs(j - j_n) > 0:\n",
    "            l = lxy_type1\n",
    "        elif np.abs(i - i_n) > 0 and not np.abs(j - j_n) > 0:\n",
    "            l = ly_type1\n",
    "        else:\n",
    "            l = lx_type1\n",
    "            \n",
    "        # spring force only during elongation \n",
    "        if x_ij_mag - l >= 0:\n",
    "            f_ij = f_ij + k * (x_ij_mag - l) * x_ij / x_ij_mag\n",
    "            \n",
    "        # damping force\n",
    "        f_ij = f_ij - d * (U_n[i, j, :] - U_n[i_n, j_n, :])\n",
    "        \n",
    "    # other types of internal forces can be implemented for type-2\n",
    "    for i_n, j_n in type2_connectivity[i, j]:\n",
    "        x_ij = X_n[i_n, j_n, :] - X_n[i, j, :]\n",
    "        x_ij_mag = np.linalg.norm(x_ij)\n",
    "        l = 0\n",
    "        if np.abs(i - i_n) > 0 and np.abs(j - j_n) > 0:\n",
    "            l = lxy_type2\n",
    "        elif np.abs(i - i_n) > 0 and not np.abs(j - j_n) > 0:\n",
    "            l = ly_type2\n",
    "        else:\n",
    "            l = lx_type2\n",
    "            \n",
    "        # spring force only during elongation\n",
    "        if x_ij_mag - l >= 0:\n",
    "            f_ij = f_ij + k * (x_ij_mag - l) * x_ij / x_ij_mag\n",
    "            \n",
    "        # damping force\n",
    "        f_ij = f_ij - d * (U_n[i, j, :] - U_n[i_n, j_n, :])\n",
    "                         \n",
    "    return f_ij\n",
    "  \n",
    "\n",
    "def calc_acceleration(X_t0, U_t0):\n",
    "    A_t0 = np.zeros((particles_y, particles_x, 3))\n",
    "    for i, j in indices:\n",
    "        A_t0[i, j, :] = 1.0 / m * calc_total_force(i, j, X_t0, U_t0) \\\n",
    "                        + np.array([0, -g, 0])\n",
    "        \n",
    "    # upper part particles are fixed, therefore ensure zeor acceleration\n",
    "    for i in range(0, particles_y):\n",
    "        A_t0[i, particles_x - 1, :] = np.array([0, 0, 0])\n",
    "        \n",
    "    return A_t0"
   ]
  },
  {
   "cell_type": "code",
   "execution_count": 7,
   "metadata": {},
   "outputs": [],
   "source": [
    "# integration parameters\n",
    "end_time = 10\n",
    "dt = 0.01\n",
    "\n",
    "# solution vectors\n",
    "t = [0]\n",
    "X = [X0]\n",
    "U = [U0]\n",
    "\n",
    "# numerical integration (Semi-implicit Euler)\n",
    "while t[-1] < end_time:\n",
    "    t_0 = t[-1]\n",
    "    X_t0 = X[-1]\n",
    "    U_t0 = U[-1] \n",
    "    A_t0 = calc_acceleration(X_t0, U_t0)\n",
    "    U_t0_dt = U_t0 + A_t0 * dt\n",
    "    X_t0_dt = X_t0 + U_t0_dt * dt\n",
    "    t.append(t_0 + dt)\n",
    "    X.append(X_t0_dt)\n",
    "    U.append(U_t0_dt)"
   ]
  },
  {
   "cell_type": "code",
   "execution_count": 8,
   "metadata": {},
   "outputs": [
    {
     "data": {
      "text/plain": [
       "<matplotlib.quiver.Quiver at 0x22dee4855b0>"
      ]
     },
     "execution_count": 8,
     "metadata": {},
     "output_type": "execute_result"
    },
    {
     "data": {
      "image/png": "[encoded data removed]",
      "text/plain": [
       "<Figure size 432x288 with 1 Axes>"
      ]
     },
     "metadata": {
      "needs_background": "light"
     },
     "output_type": "display_data"
    }
   ],
   "source": [
    "# select particle and coordinate variable to visualize the state space. This just follows one particle of the\n",
    "# whole system, but it can give useful insight.\n",
    "particle_i = 5\n",
    "particle_j = 5\n",
    "axis = 1  # 0, 1, 2 for x, y, z\n",
    "X_p = np.array(X)[:, particle_i, particle_j, axis] \n",
    "U_p = np.array(U)[:, particle_i, particle_j, axis]\n",
    "\n",
    "# create state-space diagram\n",
    "fig, ax = plt.subplots()\n",
    "ax.quiver(X_p[:-1], U_p[:-1], \n",
    "          X_p[1:] - X_p[:-1], \n",
    "          U_p[1:] - U_p[:-1], \n",
    "          scale_units='xy', angles='xy', scale=1)"
   ]
  },
  {
   "cell_type": "code",
   "execution_count": 9,
   "metadata": {},
   "outputs": [
    {
     "name": "stdout",
     "output_type": "stream",
     "text": [
      "pygame 2.0.1 (SDL 2.0.14, Python 3.9.1)\n",
      "Hello from the pygame community. https://www.pygame.org/contribute.html\n"
     ]
    }
   ],
   "source": [
    "#This part is complately optinal and is used to better view the simulation of the cloth, not being able to\n",
    "#run this code is ok\n",
    "import sys\n",
    "import time\n",
    "\n",
    "sys.path.append('pythonGL/')\n",
    "import opengl\n",
    "import pygame\n",
    "\n",
    "\n",
    "opengl.init()\n",
    "for i in range(0, len(X[:])):\n",
    "    (verts,norms, uvs) = opengl.create_list_of_vertices(X[i])\n",
    "    opengl.draw(verts, norms, uvs)\n",
    "    for event in pygame.event.get():\n",
    "            if event.type == pygame.QUIT:\n",
    "                opengl.closeAll()\n",
    "    time.sleep(1*dt)\n"
   ]
  },
  {
   "cell_type": "markdown",
   "metadata": {},
   "source": [
    "## Tasks/Questions\n",
    "\n",
    "\n",
    "1. There will be no code-writting in this part, but plase take your time and understand the code, it is just a mass-spring system on a large scale and a useful application of what we discussed so far.\n",
    "2. Tweak the values of the simulation (force, k, d, etc...) and break the system. What value was the most effective to lead the system to instability?"
   ]
  },
  {
   "cell_type": "code",
   "execution_count": 10,
   "metadata": {},
   "outputs": [],
   "source": [
    "#If the python opengl block (the one above) does not work or gives weird errors, change save_to_video to True\n",
    "#and run this block\n",
    "\n",
    "save_to_video = False\n",
    "if save_to_video:\n",
    "    fig = plt.figure()\n",
    "    ax = fig.add_subplot(111, projection='3d')\n",
    "    title = ax.set_title('')\n",
    "    ax.set_xlabel('$x (m)$')\n",
    "    ax.set_ylabel('$y (m)$')\n",
    "    ax.set_zlabel('$z (m)$')\n",
    "    ax.set_xlim([-0.5, W + 0.5])\n",
    "    ax.set_ylim([-0.5, W + 0.5])\n",
    "    ax.set_zlim([-0.5, 0.5])\n",
    "    graph, = ax.plot([], [], [], linestyle='', marker='o')\n",
    "\n",
    "    # animation update function\n",
    "    def update_graph(i):\n",
    "        graph.set_data(X[i][:, :, 0].reshape(-1), X[i][:, :, 1].reshape(-1))\n",
    "        graph.set_3d_properties(X[i][:, :, 2].reshape(-1))\n",
    "        title.set_text('time={:.2f}'.format(t[i]))\n",
    "        return graph, title, \n",
    "\n",
    "    # create animation; blit=True means only re-draw the parts that have changed\n",
    "    anim = animation.FuncAnimation(fig, update_graph, \n",
    "                                   frames=len(X), interval=30, blit=True)\n",
    "    anim.save('simulation.mp4', writer=\"ffmpeg\")\n",
    "    plt.close()\n",
    "    # HTML(anim.to_html5_video())\n",
    "    Video(\"simulation.mp4\")"
   ]
  },
  {
   "cell_type": "code",
   "execution_count": null,
   "metadata": {},
   "outputs": [],
   "source": []
  }
 ],
 "metadata": {
  "kernelspec": {
   "display_name": "Python 3",
   "language": "python",
   "name": "python3"
  },
  "language_info": {
   "codemirror_mode": {
    "name": "ipython",
    "version": 3
   },
   "file_extension": ".py",
   "mimetype": "text/x-python",
   "name": "python",
   "nbconvert_exporter": "python",
   "pygments_lexer": "ipython3",
   "version": "3.9.1"
  }
 },
 "nbformat": 4,
 "nbformat_minor": 2
}
